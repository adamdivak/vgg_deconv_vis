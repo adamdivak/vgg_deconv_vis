{
 "cells": [
  {
   "cell_type": "code",
   "execution_count": 1,
   "metadata": {
    "collapsed": false
   },
   "outputs": [
    {
     "name": "stdout",
     "output_type": "stream",
     "text": [
      "Populating the interactive namespace from numpy and matplotlib\n"
     ]
    }
   ],
   "source": [
    "import tensorflow as tf\n",
    "import vgg16\n",
    "import utils\n",
    "import os\n",
    "import pandas as pd\n",
    "from pathlib2 import Path\n",
    "from tqdm import tqdm\n",
    "import matplotlib.pyplot as plt\n",
    "from __future__ import print_function\n",
    "import more_itertools\n",
    "%pylab inline"
   ]
  },
  {
   "cell_type": "code",
   "execution_count": 2,
   "metadata": {
    "collapsed": true
   },
   "outputs": [],
   "source": [
    "images_root_dir = 'input/tiny-imagenet-200/val/images/'\n",
    "images_output_dir = 'output_images_deconvrelu/'"
   ]
  },
  {
   "cell_type": "code",
   "execution_count": 3,
   "metadata": {
    "collapsed": false
   },
   "outputs": [],
   "source": [
    "df_max_n_activations = pd.read_csv('max_n_activations.csv', index_col=[0, 1, 2])"
   ]
  },
  {
   "cell_type": "code",
   "execution_count": 4,
   "metadata": {
    "collapsed": false
   },
   "outputs": [],
   "source": [
    "img_path = next(Path(images_output_dir).glob(\"*.jpg\"))\n",
    "img = plt.imread(str(img_path))\n",
    "single_img_height = img.shape[0]\n",
    "single_img_width = img.shape[1]\n",
    "dpi = 72 # Matplotlib expects figure sizes in inches, dpi is the conversion between pixel and real size\n",
    "         # 72 is the default value anyway"
   ]
  },
  {
   "cell_type": "code",
   "execution_count": null,
   "metadata": {
    "collapsed": false,
    "scrolled": false
   },
   "outputs": [
    {
     "name": "stdout",
     "output_type": "stream",
     "text": [
      "\n",
      "vgg/conv1_1/conv1_1\n",
      "1 2 \n",
      "vgg/conv1_2/conv1_2\n",
      "1 2 \n",
      "vgg/conv2_1/conv2_1\n",
      "1 2 3 \n",
      "vgg/conv2_2/conv2_2\n",
      "1 2 3 \n",
      "vgg/conv3_1/conv3_1\n",
      "1 2 3 4 5 6 \n",
      "vgg/conv3_2/conv3_2\n"
     ]
    }
   ],
   "source": [
    "layer_group_size = 50\n",
    "for layer_name in df_max_n_activations.index.levels[0]:\n",
    "    print()\n",
    "    print(layer_name)\n",
    "    all_filters_for_layer = df_max_n_activations.loc[layer_name].index.get_level_values(0).unique()\n",
    "    group = 0\n",
    "    for filters_for_layer in more_itertools.chunked(all_filters_for_layer, layer_group_size): # Break large layers up per 50 filters\n",
    "        num_of_filters = len(filters_for_layer)\n",
    "        fig = plt.figure(figsize=(2 * single_img_width / dpi + 1, single_img_height / dpi * num_of_filters / 1.8))\n",
    "        for filter_num in filters_for_layer:\n",
    "            filename = images_output_dir + \"max_act_images_{}_filter_{}.jpg\".format(\n",
    "                layer_name.replace('/', '_'), filter_num)\n",
    "            if not os.path.exists(filename):\n",
    "                continue # the image file has not yet been genearted\n",
    "\n",
    "            image = plt.imread(filename)\n",
    "            ax = plt.subplot(num_of_filters / 2, 2, filter_num + 1 - group * layer_group_size)\n",
    "            plt.axis('off')\n",
    "            #ax.get_xaxis().set_visible(False)\n",
    "            #ax.get_yaxis().set_visible(False)\n",
    "            plt.imshow(image)\n",
    "            plt.title(\"Layer {} filter {}\".format(layer_name, filter_num))\n",
    "        plt.savefig(images_output_dir + \"all_max_act_images_{}_group_{}\".format(layer_name.replace('/', '_'), group),\n",
    "                   bbox_inches='tight', pad_inches = 0)\n",
    "        group += 1\n",
    "        print(group, end=\" \")\n",
    "        del(fig)"
   ]
  },
  {
   "cell_type": "code",
   "execution_count": null,
   "metadata": {
    "collapsed": true
   },
   "outputs": [],
   "source": []
  }
 ],
 "metadata": {
  "anaconda-cloud": {},
  "kernelspec": {
   "display_name": "Python [default]",
   "language": "python",
   "name": "python2"
  },
  "language_info": {
   "codemirror_mode": {
    "name": "ipython",
    "version": 2
   },
   "file_extension": ".py",
   "mimetype": "text/x-python",
   "name": "python",
   "nbconvert_exporter": "python",
   "pygments_lexer": "ipython2",
   "version": "2.7.12"
  }
 },
 "nbformat": 4,
 "nbformat_minor": 1
}
