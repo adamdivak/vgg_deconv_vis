{
 "cells": [
  {
   "cell_type": "markdown",
   "metadata": {},
   "source": [
    "# Simplified deconvolution example\n",
    "\n",
    "In the referenced article the visualisation is created by 'inverting' the forward steps (calculations performed by the layers) and showing what the activation of these layers means in the input space. This sounds much like calculating a gradient, and indeed after checking several sources, I came to the conclusion that this inversion of the convolution, max pooling and Relu steps is exactly the gradient of these operations w.r.t. the input space.\n",
    "\n",
    "In order to make sure that this understanding is correct and the gradient operations do indeed give the expected result, I first created this notebook using a minimal toy example so I could manually verify that the results make sense.\n",
    "\n",
    "I created a `9*9` image with a single horizontal line in row 4, and used a `3*3` vertical Sobel operator as the kernel for the convolution, which performs edge detection. For the sake of simplicity I used only a single kernel (one filter in the layer) and a single channel (grayscale) image."
   ]
  },
  {
   "cell_type": "code",
   "execution_count": 1,
   "metadata": {},
   "outputs": [
    {
     "name": "stdout",
     "output_type": "stream",
     "text": [
      "Populating the interactive namespace from numpy and matplotlib\n"
     ]
    }
   ],
   "source": [
    "import tensorflow as tf\n",
    "from tensorflow.python.ops import gen_nn_ops\n",
    "import numpy as np\n",
    "import matplotlib.pyplot as plt\n",
    "import scipy\n",
    "%pylab inline"
   ]
  },
  {
   "cell_type": "code",
   "execution_count": 2,
   "metadata": {},
   "outputs": [],
   "source": [
    "custom_gradient_registered = False"
   ]
  },
  {
   "cell_type": "code",
   "execution_count": 3,
   "metadata": {},
   "outputs": [],
   "source": [
    "def norm_image(image, ubound = 255.0):\n",
    "    img_min = np.min(image)\n",
    "    img_max = np.max(image)\n",
    "    return (((image - img_min) * ubound) / (img_max - img_min)).astype('uint8')"
   ]
  },
  {
   "cell_type": "markdown",
   "metadata": {},
   "source": [
    "# Convolution"
   ]
  },
  {
   "cell_type": "markdown",
   "metadata": {},
   "source": [
    "## Initialise the variables"
   ]
  },
  {
   "cell_type": "code",
   "execution_count": 4,
   "metadata": {},
   "outputs": [],
   "source": [
    "img_size = 9 # image used for testing\n",
    "w_size = 3 # size of the convolution kernel\n",
    "\n",
    "img_shape = [1, img_size, img_size, 1]\n",
    "w_shape = [w_size, w_size, 1, 1]\n",
    "\n",
    "img_val_np = np.array([[0, 0, 0, 1, 0, 0, 0, 0, 0]] * 9).T\n",
    "img_val = np.reshape(img_val_np, [1, 9, 9, 1])\n",
    "\n",
    "w_np = np.array([[-1.0, -2.0, -1.0], [0., 0., 0.], [1., 2., 1.]])\n",
    "\n",
    "# The scope is required so AUTO_REUSE can be set, which is needed to enable re-running \n",
    "# the cell without changing the name of the variable\n",
    "with tf.variable_scope('simple_convolution', reuse=tf.AUTO_REUSE) as scope:\n",
    "    w = tf.get_variable(\"kernel\", dtype=tf.float32, \n",
    "      initializer=tf.cast(np.reshape(w_np, w_shape), tf.float32))\n",
    "\n",
    "    img = tf.placeholder(\"float\", [None, 9, 9, 1])"
   ]
  },
  {
   "cell_type": "code",
   "execution_count": 5,
   "metadata": {},
   "outputs": [
    {
     "data": {
      "image/png": "[encoded data removed]",
      "text/plain": [
       "<matplotlib.figure.Figure at 0x7febc1374850>"
      ]
     },
     "metadata": {},
     "output_type": "display_data"
    }
   ],
   "source": [
    "plt.imshow(img_val_np, interpolation=\"nearest\", cmap=\"gray\")\n",
    "_ = plt.title(\"Input image\")"
   ]
  },
  {
   "cell_type": "code",
   "execution_count": 6,
   "metadata": {},
   "outputs": [
    {
     "data": {
      "image/png": "[encoded data removed]",
      "text/plain": [
       "<matplotlib.figure.Figure at 0x7febc1391d90>"
      ]
     },
     "metadata": {},
     "output_type": "display_data"
    }
   ],
   "source": [
    "plt.imshow(w_np, interpolation=\"nearest\", cmap=\"gray\")\n",
    "_ = plt.title(\"Convolution kernel - Sobel filter\")"
   ]
  },
  {
   "cell_type": "markdown",
   "metadata": {},
   "source": [
    "## Perform the convolution (forward step)"
   ]
  },
  {
   "cell_type": "code",
   "execution_count": 7,
   "metadata": {},
   "outputs": [],
   "source": [
    "with tf.Session() as sess:\n",
    "    sess.run(tf.global_variables_initializer())\n",
    "    conv1 = tf.nn.conv2d(img, w, [1, 1, 1, 1], \"SAME\", name=\"conv1\")\n",
    "    conv1_val = sess.run(conv1, feed_dict={img: img_val})\n",
    "#conv1_val.squeeze()"
   ]
  },
  {
   "cell_type": "code",
   "execution_count": 8,
   "metadata": {},
   "outputs": [
    {
     "data": {
      "image/png": "[encoded data removed]",
      "text/plain": [
       "<matplotlib.figure.Figure at 0x7febc1391f90>"
      ]
     },
     "metadata": {},
     "output_type": "display_data"
    }
   ],
   "source": [
    "plt.imshow(norm_image(conv1_val.squeeze()), interpolation=\"nearest\", cmap=\"gray\")\n",
    "_ = plt.title(\"Result of the convolution\")"
   ]
  },
  {
   "cell_type": "markdown",
   "metadata": {},
   "source": [
    "As expected, the result of a convolution are two non-zero lines, showing the positive and negative gradient of the edge.\n",
    "\n",
    "Note the slightly different values in the first and last columns, which is the result of the `padding=\"SAME\"` setting."
   ]
  },
  {
   "cell_type": "markdown",
   "metadata": {},
   "source": [
    "## Backward step of convolution - using the transpose convolution method"
   ]
  },
  {
   "cell_type": "code",
   "execution_count": 9,
   "metadata": {},
   "outputs": [],
   "source": [
    "with tf.Session() as sess:\n",
    "    sess.run(tf.global_variables_initializer())\n",
    "    d_conv1_img_trans = tf.nn.conv2d_transpose(conv1, w, [1, 9, 9, 1], [1, 1, 1, 1], \"SAME\")[0]\n",
    "    d_conv1_img_trans_val = sess.run(d_conv1_img_trans, feed_dict={img: img_val})\n",
    "_ = d_conv1_img_trans_val.squeeze()"
   ]
  },
  {
   "cell_type": "code",
   "execution_count": 10,
   "metadata": {},
   "outputs": [
    {
     "data": {
      "image/png": "[encoded data removed]",
      "text/plain": [
       "<matplotlib.figure.Figure at 0x7febb94a4410>"
      ]
     },
     "metadata": {},
     "output_type": "display_data"
    }
   ],
   "source": [
    "plt.imshow(norm_image(d_conv1_img_trans_val.squeeze()), interpolation=\"nearest\", cmap=\"gray\")\n",
    "_ = plt.title(\"Transpose of the convolution\")"
   ]
  },
  {
   "cell_type": "markdown",
   "metadata": {},
   "source": [
    "This is the method described in the article. Tensorflow has a built-in operation called `conv2d_transpose`, so there is no need to manually flip the weights of the kernel.\n",
    "\n",
    "As expected, the positive edge at row 3 was correctly reconstructed. \n",
    "\n",
    "Note that there was no non-linearity applied to the convolution at this stage, so the result also includes negative numbers. This is because, despite the confusing naming used in recent computer vision/deep learning literature, the transpose of the convolution is not actually a deconvolution."
   ]
  },
  {
   "cell_type": "markdown",
   "metadata": {},
   "source": [
    "## Backward step of convolution - calculating the gradient"
   ]
  },
  {
   "cell_type": "code",
   "execution_count": 11,
   "metadata": {},
   "outputs": [],
   "source": [
    "with tf.Session() as sess:\n",
    "    sess.run(tf.global_variables_initializer())\n",
    "\n",
    "    d_conv1_img_grad = tf.gradients(conv1, img)[0]\n",
    "    d_conv1_img_grad_val = sess.run(d_conv1_img_grad, feed_dict={img: img_val})\n",
    "# d_conv1_img_grad_val.squeeze()"
   ]
  },
  {
   "cell_type": "code",
   "execution_count": 12,
   "metadata": {
    "scrolled": false
   },
   "outputs": [
    {
     "data": {
      "image/png": "[encoded data removed]",
      "text/plain": [
       "<matplotlib.figure.Figure at 0x7febb8311250>"
      ]
     },
     "metadata": {},
     "output_type": "display_data"
    }
   ],
   "source": [
    "plt.imshow(norm_image(d_conv1_img_grad_val.squeeze()), interpolation=\"nearest\", cmap=\"gray\")\n",
    "_ = plt.title(\"Gradient of the convolution w.r.t. the input\")"
   ]
  },
  {
   "cell_type": "markdown",
   "metadata": {},
   "source": [
    "Multiple sources state the the transpose of the convolution equals to the gradient of it, so I wanted to verify this expecting the same output as in the previous section. As you can see on this image, the results are not at all the same – this is actually uniformly 0, except the top and bottom rows of the image, where the values are caused by the padding, not any real image features.\n",
    "\n",
    "I was puzzled by this, as I was pretty certain this should make sense and this was only supposed to be a quick sanity check. I would never admit how much time I have spent on trying to figure out what went wrong here, reading several other articles on de/convolution, the documentation and source code of Tensorflow, related answers on StackOverflow, etc. (Can you spot the error right away?)\n",
    "\n",
    "The problem here is that due to the choice of the input image/kernel, the sum/average of the values returned by the convolution is exactly 0, so the gradient is 0 as well, so the gradient w.r.t. the input is also uniformly 0. This is caused by the simple fact that I (intentionally) did not include a non-linearity to keep the example minimal, but I also failed to provide a gradient which would return a non-zero value. I did not find anyone having the same problem simply because no one was using convolutions without a non-linearity, and with a perfectly symmetrical output.. After realising this, I could easily correct it by adding the `tf.reduce_max` operation to the graph, which resulted in a non-zero gradient and the expected output."
   ]
  },
  {
   "cell_type": "code",
   "execution_count": 13,
   "metadata": {},
   "outputs": [],
   "source": [
    "with tf.Session() as sess:\n",
    "    sess.run(tf.global_variables_initializer())\n",
    "\n",
    "    d_conv1_img_grad = tf.gradients(tf.reduce_max(conv1), img)[0] # Notice the reduce_max added to the graph\n",
    "    d_conv1_img_grad_val = sess.run(d_conv1_img_grad, feed_dict={img: img_val})\n",
    "# d_conv1_img_grad_val.squeeze()"
   ]
  },
  {
   "cell_type": "code",
   "execution_count": 14,
   "metadata": {},
   "outputs": [
    {
     "data": {
      "image/png": "[encoded data removed]",
      "text/plain": [
       "<matplotlib.figure.Figure at 0x7febb8308d10>"
      ]
     },
     "metadata": {},
     "output_type": "display_data"
    }
   ],
   "source": [
    "plt.imshow(norm_image(d_conv1_img_grad_val.squeeze()), interpolation=\"nearest\", cmap=\"gray\")\n",
    "_ = plt.title(\"Gradient of the convolution w.r.t. the input\")"
   ]
  },
  {
   "cell_type": "markdown",
   "metadata": {},
   "source": [
    "# Max pooling\n",
    "\n",
    "The original article describes a cumbersome method of storing each pixel that was selected in a max pooling operation, and in reverse mode activating only that pixel. Tensorflow has something similar implemented under the name `tf.nn.max_pool_with_argmax`, however this opration sounds just like the gradient of a max pool layer. Let's verify that calculating the gradient is equivalent to this operation. Here I used an image of random pixels instead of the previous one, as max pooling does not make much sense if all the pixels have only two distinct values."
   ]
  },
  {
   "cell_type": "code",
   "execution_count": 16,
   "metadata": {},
   "outputs": [
    {
     "data": {
      "text/plain": [
       "(1, 9, 9, 1)"
      ]
     },
     "execution_count": 16,
     "metadata": {},
     "output_type": "execute_result"
    }
   ],
   "source": [
    "img_rnd_val = np.random.randint(255, size=[1, 9, 9, 1])\n",
    "img_rnd_val.shape"
   ]
  },
  {
   "cell_type": "code",
   "execution_count": 17,
   "metadata": {},
   "outputs": [
    {
     "data": {
      "text/plain": [
       "array([[ 160.,  215.,  164.,  138.,  223.],\n",
       "       [  96.,  241.,  191.,  231.,  202.],\n",
       "       [ 244.,  250.,  199.,  191.,  226.],\n",
       "       [ 202.,  228.,  219.,  219.,  184.],\n",
       "       [ 177.,  218.,  254.,  158.,  213.]], dtype=float32)"
      ]
     },
     "execution_count": 17,
     "metadata": {},
     "output_type": "execute_result"
    }
   ],
   "source": [
    "with tf.Session() as sess:\n",
    "    sess.run(tf.global_variables_initializer())\n",
    "    mp = tf.nn.max_pool(img, ksize=[1, 2, 2, 1],\n",
    "                        strides=[1, 2, 2, 1], padding='SAME')[0]\n",
    "    d_mp = tf.gradients(mp, img)[0]\n",
    "    mp_val, d_mp_val = sess.run([mp, d_mp], feed_dict={img: img_rnd_val})\n",
    "mp_val.squeeze()"
   ]
  },
  {
   "cell_type": "code",
   "execution_count": 18,
   "metadata": {},
   "outputs": [
    {
     "data": {
      "text/plain": [
       "array([[ 0.,  1.,  1.,  0.,  0.,  0.,  0.,  0.,  0.],\n",
       "       [ 0.,  0.,  0.,  0.,  1.,  0.,  0.,  1.,  1.],\n",
       "       [ 0.,  1.,  0.,  0.,  0.,  0.,  0.,  0.,  1.],\n",
       "       [ 0.,  0.,  0.,  1.,  0.,  1.,  1.,  0.,  0.],\n",
       "       [ 1.,  0.,  0.,  0.,  0.,  0.,  0.,  1.,  0.],\n",
       "       [ 0.,  0.,  0.,  1.,  0.,  1.,  0.,  0.,  1.],\n",
       "       [ 1.,  0.,  0.,  0.,  0.,  1.,  1.,  0.,  1.],\n",
       "       [ 0.,  0.,  1.,  0.,  0.,  0.,  0.,  0.,  0.],\n",
       "       [ 0.,  1.,  0.,  1.,  1.,  0.,  0.,  1.,  1.]], dtype=float32)"
      ]
     },
     "execution_count": 18,
     "metadata": {},
     "output_type": "execute_result"
    }
   ],
   "source": [
    "d_mp_val.squeeze()"
   ]
  },
  {
   "cell_type": "code",
   "execution_count": 19,
   "metadata": {},
   "outputs": [
    {
     "data": {
      "text/plain": [
       "array([[ 38, 160, 215, 168,  93,  97,  57,  55,  27],\n",
       "       [116,  19, 114, 138, 164,  70,  67, 138, 223],\n",
       "       [ 11,  96, 204,  27, 122,   7,  22, 151, 202],\n",
       "       [ 49,  96, 119, 241,  40, 191, 231, 150, 173],\n",
       "       [244,  18, 147,  87,   8,  73,  25, 191, 200],\n",
       "       [ 12, 170, 153, 250, 164, 199, 151, 127, 226],\n",
       "       [202,  89, 130, 148,  65, 219, 219, 169, 184],\n",
       "       [120,   4, 228, 227,  99,  58, 130,  94, 173],\n",
       "       [158, 177,  59, 218, 254,  93, 136, 158, 213]])"
      ]
     },
     "execution_count": 19,
     "metadata": {},
     "output_type": "execute_result"
    }
   ],
   "source": [
    "img_rnd_val.squeeze()"
   ]
  },
  {
   "cell_type": "code",
   "execution_count": 20,
   "metadata": {},
   "outputs": [
    {
     "name": "stdout",
     "output_type": "stream",
     "text": [
      "The gradient calculation is correct.\n"
     ]
    }
   ],
   "source": [
    "is_ok = True\n",
    "for i in range(0, img_rnd_val.shape[1], 2): # Iterate over the input image/output gradient in 2x2 blocks\n",
    "    for j in range(0, img_rnd_val.shape[2], 2):\n",
    "        values = img_rnd_val[0, i:i+2, j:j+2, 0] # Get the 4 values of the image in this 2x2 block\n",
    "        masked_values = (img_rnd_val[0, i:i+2, j:j+2, 0] \n",
    "                         * d_mp_val[0, i:i+2, j:j+2, 0]) # Get of the original image where the gradient has a value of 1\n",
    "        if np.max(values) != np.max(masked_values): # If the gradient points to the correct pixel then selecting \n",
    "                                                    # the max of the previous two 2x2 matrices should yield the same value\n",
    "            is_ok = False\n",
    "            print(\"The resulting gradient did not select the max values for {}:{}\".format(i, j))\n",
    "            break\n",
    "if is_ok:\n",
    "    print(\"The gradient calculation is correct.\")"
   ]
  },
  {
   "cell_type": "markdown",
   "metadata": {},
   "source": [
    "# Relu\n",
    "\n",
    "The gradient of Relu is either 0 or 1, depending only on the input value. This can actually be used to create the visualisations we are working on, but directly using the Relu gradient results in increasingly noisy result images as we move into deeper network layers. According to the article and other online sources, the visualisations improve a lot if only the positive gradient values are passed back. I wanted to find a solution that can be easily applied to any pre-defined model without having to modify the original graph, and in Tensorflow this can be done by registering a custom gradient function."
   ]
  },
  {
   "cell_type": "markdown",
   "metadata": {},
   "source": [
    "## Relu - forward pass on a random image"
   ]
  },
  {
   "cell_type": "code",
   "execution_count": 24,
   "metadata": {},
   "outputs": [
    {
     "name": "stdout",
     "output_type": "stream",
     "text": [
      "(1, 9, 9, 1)\n"
     ]
    },
    {
     "data": {
      "image/png": "[encoded data removed]",
      "text/plain": [
       "<matplotlib.figure.Figure at 0x7febb80c20d0>"
      ]
     },
     "metadata": {},
     "output_type": "display_data"
    }
   ],
   "source": [
    "img_rnd_val = np.random.randint(255, size=[1, 9, 9, 1]) - 127\n",
    "print(img_rnd_val.shape)\n",
    "plt.imshow(norm_image(img_rnd_val.squeeze()), interpolation=\"nearest\", cmap=\"gray\")\n",
    "_ = plt.title(\"Input image\")"
   ]
  },
  {
   "cell_type": "code",
   "execution_count": 25,
   "metadata": {},
   "outputs": [],
   "source": [
    "with tf.Session() as sess:\n",
    "    sess.run(tf.global_variables_initializer())\n",
    "    relu = tf.nn.relu(img)\n",
    "    relu_val = sess.run(relu, feed_dict={img: img_rnd_val})\n",
    "#relu_val.squeeze()"
   ]
  },
  {
   "cell_type": "code",
   "execution_count": 26,
   "metadata": {},
   "outputs": [
    {
     "data": {
      "image/png": "[encoded data removed]",
      "text/plain": [
       "<matplotlib.figure.Figure at 0x7febb817d750>"
      ]
     },
     "metadata": {},
     "output_type": "display_data"
    }
   ],
   "source": [
    "plt.imshow(norm_image(relu_val.squeeze()), interpolation=\"nearest\", cmap=\"gray\")\n",
    "_ = plt.title(\"Result of Relu on the random image\")"
   ]
  },
  {
   "cell_type": "markdown",
   "metadata": {},
   "source": [
    "## Regular Relu gradient\n",
    "\n",
    "In order to demonstrate the effect, I have created a Relu and then a second operation multiplying the result by -1. This forces all the gradients passed to Relu to be negative (or 0)."
   ]
  },
  {
   "cell_type": "code",
   "execution_count": 27,
   "metadata": {},
   "outputs": [
    {
     "data": {
      "text/plain": [
       "array([[-1., -0., -1., -0., -0., -1., -1., -1., -1.],\n",
       "       [-0., -0., -1., -1., -0., -1., -0., -0., -0.],\n",
       "       [-1., -0., -1., -1., -1., -0., -1., -1., -0.],\n",
       "       [-0., -1., -1., -1., -1., -0., -1., -1., -0.],\n",
       "       [-1., -0., -0., -0., -1., -0., -0., -0., -1.],\n",
       "       [-0., -0., -0., -1., -1., -0., -0., -0., -1.],\n",
       "       [-0., -0., -1., -0., -1., -1., -1., -0., -0.],\n",
       "       [-1., -1., -1., -0., -0., -1., -0., -1., -0.],\n",
       "       [-1., -0., -0., -0., -0., -1., -0., -1., -0.]], dtype=float32)"
      ]
     },
     "execution_count": 27,
     "metadata": {},
     "output_type": "execute_result"
    }
   ],
   "source": [
    "with tf.Session() as sess:\n",
    "    sess.run(tf.global_variables_initializer())\n",
    "\n",
    "    f = tf.multiply(relu, -1)\n",
    "    d_f_img = tf.gradients(f, img)[0]\n",
    "    d_relu_img_val = sess.run(d_f_img, feed_dict={img: img_rnd_val})\n",
    "d_relu_img_val.squeeze()"
   ]
  },
  {
   "cell_type": "code",
   "execution_count": 28,
   "metadata": {},
   "outputs": [
    {
     "data": {
      "image/png": "[encoded data removed]",
      "text/plain": [
       "<matplotlib.figure.Figure at 0x7febb8045a50>"
      ]
     },
     "metadata": {},
     "output_type": "display_data"
    }
   ],
   "source": [
    "plt.imshow(norm_image(d_relu_img_val.squeeze()), interpolation=\"nearest\", cmap=\"gray\")\n",
    "_ = plt.title(\"Gradient of Relu after the convolution\")"
   ]
  },
  {
   "cell_type": "markdown",
   "metadata": {},
   "source": [
    "## Modified Relu gradient\n",
    "\n",
    "In order to overcome this, a custom gradient is registered for Relu, which clips the \"incoming\" gradient values at 0. Applying this modified gradient operation to the previous example results in an all 0 output, as all gradients received by the Relu unit were negative (by the design of the example).\n",
    "\n",
    "Note that registering a custom gradient is tricky in Tensorflow, as you have to make sure to only register it once in a session, and you also have to make sure that the unit for which the gradient should be changed is created inside the context manager of `gradient_override_map`. This is also important while loading an existing model later."
   ]
  },
  {
   "cell_type": "code",
   "execution_count": 29,
   "metadata": {},
   "outputs": [],
   "source": [
    "if not custom_gradient_registered:\n",
    "    # https://www.tensorflow.org/versions/r0.12/api_docs/python/train/gradient_clipping\n",
    "    @tf.RegisterGradient(\"GuidedReluGrad\")\n",
    "    def _GuidedReluGrad(op, grad):\n",
    "        #return tf.clip_by_value(grad, 0, float('inf'))\n",
    "        #return tf.where(0. < grad, gen_nn_ops._relu_grad(grad, op.outputs[0]), tf.zeros_like(grad))\n",
    "        grad_val = gen_nn_ops._relu_grad(grad, op.outputs[0])\n",
    "        clipped_grad = tf.clip_by_value(grad_val, 0, float('inf'))\n",
    "        return clipped_grad\n",
    "    \n",
    "    custom_gradient_registered = True"
   ]
  },
  {
   "cell_type": "code",
   "execution_count": 30,
   "metadata": {
    "scrolled": false
   },
   "outputs": [
    {
     "data": {
      "text/plain": [
       "array([[ 0., -0.,  0., -0., -0.,  0.,  0.,  0.,  0.],\n",
       "       [-0., -0.,  0.,  0., -0.,  0., -0., -0., -0.],\n",
       "       [ 0., -0.,  0.,  0.,  0., -0.,  0.,  0., -0.],\n",
       "       [-0.,  0.,  0.,  0.,  0., -0.,  0.,  0., -0.],\n",
       "       [ 0., -0., -0., -0.,  0., -0., -0., -0.,  0.],\n",
       "       [-0., -0., -0.,  0.,  0., -0., -0., -0.,  0.],\n",
       "       [-0., -0.,  0., -0.,  0.,  0.,  0., -0., -0.],\n",
       "       [ 0.,  0.,  0., -0., -0.,  0., -0.,  0., -0.],\n",
       "       [ 0., -0., -0., -0., -0.,  0., -0.,  0., -0.]], dtype=float32)"
      ]
     },
     "execution_count": 30,
     "metadata": {},
     "output_type": "execute_result"
    }
   ],
   "source": [
    "with tf.get_default_graph().gradient_override_map({'Relu': 'GuidedReluGrad'}):\n",
    "    with tf.Session() as sess:\n",
    "        sess.run(tf.global_variables_initializer())\n",
    "\n",
    "        guided_relu = tf.nn.relu(img)\n",
    "        f = tf.multiply(guided_relu, -1)\n",
    "        d_f_img = tf.gradients(f, img)[0]\n",
    "        d_guided_relu_img_val = sess.run(d_f_img, feed_dict={img: img_rnd_val})\n",
    "d_guided_relu_img_val.squeeze()"
   ]
  },
  {
   "cell_type": "code",
   "execution_count": 31,
   "metadata": {},
   "outputs": [
    {
     "name": "stderr",
     "output_type": "stream",
     "text": [
      "/opt/conda/lib/python2.7/site-packages/ipykernel_launcher.py:4: RuntimeWarning: invalid value encountered in divide\n",
      "  after removing the cwd from sys.path.\n"
     ]
    },
    {
     "data": {
      "image/png": "[encoded data removed]",
      "text/plain": [
       "<matplotlib.figure.Figure at 0x7febb8137990>"
      ]
     },
     "metadata": {},
     "output_type": "display_data"
    }
   ],
   "source": [
    "plt.imshow(norm_image(d_guided_relu_img_val.squeeze()), interpolation=\"nearest\", cmap=\"gray\")\n",
    "_ = plt.title(\"Gradient of Relu after the convolution\")"
   ]
  },
  {
   "cell_type": "markdown",
   "metadata": {},
   "source": [
    "# End"
   ]
  },
  {
   "cell_type": "markdown",
   "metadata": {},
   "source": [
    "Having checked that calculating the gradient w.r.t. the input gives the result we expect for the visualisation, let's move on to actually solving the task at hand."
   ]
  }
 ],
 "metadata": {
  "kernelspec": {
   "display_name": "Python 2",
   "language": "python",
   "name": "python2"
  },
  "language_info": {
   "codemirror_mode": {
    "name": "ipython",
    "version": 2
   },
   "file_extension": ".py",
   "mimetype": "text/x-python",
   "name": "python",
   "nbconvert_exporter": "python",
   "pygments_lexer": "ipython2",
   "version": "2.7.14"
  }
 },
 "nbformat": 4,
 "nbformat_minor": 2
}
