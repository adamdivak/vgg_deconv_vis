{
 "cells": [
  {
   "cell_type": "markdown",
   "metadata": {},
   "source": [
    "# Simplified deconvolution example\n",
    "\n",
    "In the referenced article the visualisation is created by 'inverting' the forward steps (calculations performed by the layers) and showing what the activation of these layers means in the input space. This sounds much like calculating a gradient, and indeed after checking several sources, I came to the conclusion that this inversion of the convolution, max pooling and Relu steps is exactly the gradient of these operations w.r.t. the input space.\n",
    "\n",
    "In order to make sure that this understanding is correct and the gradient operations do indeed give the expected result, I first created this notebook using a minimal toy example so I could manually verify that the results make sense.\n",
    "\n",
    "I created a `9*9` image with a single horizontal line in row 4, and used a `3*3` vertical Sobel operator as the kernel for the convolution, which performs edge detection. For the sake of simplicity I used only a single kernel (one filter in the layer) and a single channel (grayscale) image."
   ]
  },
  {
   "cell_type": "code",
   "execution_count": 1,
   "metadata": {},
   "outputs": [
    {
     "name": "stdout",
     "output_type": "stream",
     "text": [
      "Populating the interactive namespace from numpy and matplotlib\n"
     ]
    }
   ],
   "source": [
    "import tensorflow as tf\n",
    "import numpy as np\n",
    "import matplotlib.pyplot as plt\n",
    "import tf_cnnvis\n",
    "import scipy\n",
    "%pylab inline"
   ]
  },
  {
   "cell_type": "code",
   "execution_count": 2,
   "metadata": {},
   "outputs": [],
   "source": [
    "def norm_image(image, ubound = 255.0):\n",
    "    img_min = np.min(image)\n",
    "    img_max = np.max(image)\n",
    "    return (((image - img_min) * ubound) / (img_max - img_min)).astype('uint8')"
   ]
  },
  {
   "cell_type": "markdown",
   "metadata": {},
   "source": [
    "# Initialise the variables"
   ]
  },
  {
   "cell_type": "code",
   "execution_count": 164,
   "metadata": {},
   "outputs": [],
   "source": [
    "img_size = 9 # image used for testing\n",
    "w_size = 3 # size of the convolution kernel\n",
    "\n",
    "img_shape = [1, img_size, img_size, 1]\n",
    "w_shape = [w_size, w_size, 1, 1]\n",
    "\n",
    "img_val_np = np.array([[0, 0, 0, 1, 0, 0, 0, 0, 0]] * 9).T\n",
    "img_val = np.reshape(img_val_np, [1, 9, 9, 1])\n",
    "\n",
    "w_np = np.array([[-1.0, -2.0, -1.0], [0., 0., 0.], [1., 2., 1.]])\n",
    "\n",
    "# The scope is required so AUTO_REUSE can be set, which is needed to enable re-running \n",
    "# the cell without changing the name of the variable\n",
    "with tf.variable_scope('simple_convolution', reuse=tf.AUTO_REUSE) as scope:\n",
    "    w = tf.get_variable(\"kernel\", dtype=tf.float32, \n",
    "      initializer=tf.cast(np.reshape(w_np, w_shape), tf.float32))\n",
    "\n",
    "    img = tf.placeholder(\"float\", [None, 9, 9, 1])"
   ]
  },
  {
   "cell_type": "code",
   "execution_count": 165,
   "metadata": {},
   "outputs": [
    {
     "data": {
      "text/plain": [
       "<matplotlib.image.AxesImage at 0x7f1e9179c7d0>"
      ]
     },
     "execution_count": 165,
     "metadata": {},
     "output_type": "execute_result"
    },
    {
     "data": {
      "image/png": "[encoded data removed]",
      "text/plain": [
       "<matplotlib.figure.Figure at 0x7f1e9188b150>"
      ]
     },
     "metadata": {},
     "output_type": "display_data"
    }
   ],
   "source": [
    "plt.imshow(img_val_np, interpolation=\"nearest\", cmap=\"gray\")"
   ]
  },
  {
   "cell_type": "code",
   "execution_count": 166,
   "metadata": {},
   "outputs": [
    {
     "data": {
      "text/plain": [
       "<matplotlib.image.AxesImage at 0x7f1e91766210>"
      ]
     },
     "execution_count": 166,
     "metadata": {},
     "output_type": "execute_result"
    },
    {
     "data": {
      "image/png": "[encoded data removed]",
      "text/plain": [
       "<matplotlib.figure.Figure at 0x7f1e91950e50>"
      ]
     },
     "metadata": {},
     "output_type": "display_data"
    }
   ],
   "source": [
    "plt.imshow(w_np, interpolation=\"nearest\", cmap=\"gray\")"
   ]
  },
  {
   "cell_type": "markdown",
   "metadata": {},
   "source": [
    "# Perform the convolution (forward step)"
   ]
  },
  {
   "cell_type": "code",
   "execution_count": 167,
   "metadata": {},
   "outputs": [
    {
     "data": {
      "text/plain": [
       "array([[ 0.,  0.,  0.,  0.,  0.,  0.,  0.,  0.,  0.],\n",
       "       [ 0.,  0.,  0.,  0.,  0.,  0.,  0.,  0.,  0.],\n",
       "       [ 3.,  4.,  4.,  4.,  4.,  4.,  4.,  4.,  3.],\n",
       "       [ 0.,  0.,  0.,  0.,  0.,  0.,  0.,  0.,  0.],\n",
       "       [-3., -4., -4., -4., -4., -4., -4., -4., -3.],\n",
       "       [ 0.,  0.,  0.,  0.,  0.,  0.,  0.,  0.,  0.],\n",
       "       [ 0.,  0.,  0.,  0.,  0.,  0.,  0.,  0.,  0.],\n",
       "       [ 0.,  0.,  0.,  0.,  0.,  0.,  0.,  0.,  0.],\n",
       "       [ 0.,  0.,  0.,  0.,  0.,  0.,  0.,  0.,  0.]], dtype=float32)"
      ]
     },
     "execution_count": 167,
     "metadata": {},
     "output_type": "execute_result"
    }
   ],
   "source": [
    "with tf.Session() as sess:\n",
    "    sess.run(tf.global_variables_initializer())\n",
    "    conv1 = tf.nn.conv2d(img, w, [1, 1, 1, 1], \"SAME\", name=\"conv1\")\n",
    "    conv1_val = sess.run(conv1, feed_dict={img: img_val})\n",
    "conv1_val.squeeze()"
   ]
  },
  {
   "cell_type": "code",
   "execution_count": 168,
   "metadata": {},
   "outputs": [
    {
     "data": {
      "text/plain": [
       "<matplotlib.image.AxesImage at 0x7f1e916d9710>"
      ]
     },
     "execution_count": 168,
     "metadata": {},
     "output_type": "execute_result"
    },
    {
     "data": {
      "image/png": "[encoded data removed]",
      "text/plain": [
       "<matplotlib.figure.Figure at 0x7f1e917ddad0>"
      ]
     },
     "metadata": {},
     "output_type": "display_data"
    }
   ],
   "source": [
    "plt.imshow(norm_image(conv1_val.squeeze()), interpolation=\"nearest\", cmap=\"gray\")"
   ]
  },
  {
   "cell_type": "markdown",
   "metadata": {},
   "source": [
    "As expected, the result of a convolution are two non-zero lines, showing the positive and negative gradient of the edge.\n",
    "\n",
    "Note the slightly different values in the first and last columns, which is the result of the `padding=\"SAME\"` setting."
   ]
  },
  {
   "cell_type": "markdown",
   "metadata": {},
   "source": [
    "# Backward step of convolution - using the transpose convolution method"
   ]
  },
  {
   "cell_type": "code",
   "execution_count": 169,
   "metadata": {},
   "outputs": [
    {
     "data": {
      "text/plain": [
       "array([[  0.,   0.,   0.,   0.,   0.,   0.,   0.,   0.,   0.],\n",
       "       [-10., -15., -16., -16., -16., -16., -16., -15., -10.],\n",
       "       [  0.,   0.,   0.,   0.,   0.,   0.,   0.,   0.,   0.],\n",
       "       [ 20.,  30.,  32.,  32.,  32.,  32.,  32.,  30.,  20.],\n",
       "       [  0.,   0.,   0.,   0.,   0.,   0.,   0.,   0.,   0.],\n",
       "       [-10., -15., -16., -16., -16., -16., -16., -15., -10.],\n",
       "       [  0.,   0.,   0.,   0.,   0.,   0.,   0.,   0.,   0.],\n",
       "       [  0.,   0.,   0.,   0.,   0.,   0.,   0.,   0.,   0.],\n",
       "       [  0.,   0.,   0.,   0.,   0.,   0.,   0.,   0.,   0.]], dtype=float32)"
      ]
     },
     "execution_count": 169,
     "metadata": {},
     "output_type": "execute_result"
    }
   ],
   "source": [
    "with tf.Session() as sess:\n",
    "    sess.run(tf.global_variables_initializer())\n",
    "    d_conv1_img_trans = tf.nn.conv2d_transpose(conv1, w, [1, 9, 9, 1], [1, 1, 1, 1], \"SAME\")[0]\n",
    "    d_conv1_img_trans_val = sess.run(d_conv1_img_trans, feed_dict={img: img_val})\n",
    "d_conv1_img_trans_val.squeeze()"
   ]
  },
  {
   "cell_type": "code",
   "execution_count": 170,
   "metadata": {},
   "outputs": [
    {
     "data": {
      "text/plain": [
       "<matplotlib.image.AxesImage at 0x7f1e9165f210>"
      ]
     },
     "execution_count": 170,
     "metadata": {},
     "output_type": "execute_result"
    },
    {
     "data": {
      "image/png": "[encoded data removed]",
      "text/plain": [
       "<matplotlib.figure.Figure at 0x7f1e917295d0>"
      ]
     },
     "metadata": {},
     "output_type": "display_data"
    }
   ],
   "source": [
    "plt.imshow(norm_image(d_conv1_img_trans_val.squeeze()), interpolation=\"nearest\", cmap=\"gray\")"
   ]
  },
  {
   "cell_type": "markdown",
   "metadata": {},
   "source": [
    "This is the method described in the article. Tensorflow has a built-in operation called `conv2d_transpose`, so there is no need to manually flip the weights of the kernel.\n",
    "\n",
    "As expected, the positive edge at row 3 was correctly reconstructed. \n",
    "\n",
    "Note that there was no non-linearity applied to the convolution at this stage, so the result also includes negative numbers. This is because, despite the confusing naming used in recent computer vision/deep learning literature, the transpose of the convolution is not actually a deconvolution."
   ]
  },
  {
   "cell_type": "markdown",
   "metadata": {},
   "source": [
    "# Backward step of convolution - calculating the gradient"
   ]
  },
  {
   "cell_type": "code",
   "execution_count": 127,
   "metadata": {},
   "outputs": [
    {
     "data": {
      "text/plain": [
       "array([[-3., -4., -4., -4., -4., -4., -4., -4., -3.],\n",
       "       [ 0.,  0.,  0.,  0.,  0.,  0.,  0.,  0.,  0.],\n",
       "       [ 0.,  0.,  0.,  0.,  0.,  0.,  0.,  0.,  0.],\n",
       "       [ 0.,  0.,  0.,  0.,  0.,  0.,  0.,  0.,  0.],\n",
       "       [ 0.,  0.,  0.,  0.,  0.,  0.,  0.,  0.,  0.],\n",
       "       [ 0.,  0.,  0.,  0.,  0.,  0.,  0.,  0.,  0.],\n",
       "       [ 0.,  0.,  0.,  0.,  0.,  0.,  0.,  0.,  0.],\n",
       "       [ 0.,  0.,  0.,  0.,  0.,  0.,  0.,  0.,  0.],\n",
       "       [ 3.,  4.,  4.,  4.,  4.,  4.,  4.,  4.,  3.]], dtype=float32)"
      ]
     },
     "execution_count": 127,
     "metadata": {},
     "output_type": "execute_result"
    }
   ],
   "source": [
    "with tf.Session() as sess:\n",
    "    sess.run(tf.global_variables_initializer())\n",
    "\n",
    "    d_conv1_img_grad = tf.gradients(conv1, img)[0]\n",
    "    d_conv1_img_grad_val = sess.run(d_conv1_img_grad, feed_dict={img: img_val})\n",
    "d_conv1_img_grad_val.squeeze()"
   ]
  },
  {
   "cell_type": "code",
   "execution_count": 128,
   "metadata": {
    "scrolled": false
   },
   "outputs": [
    {
     "data": {
      "text/plain": [
       "<matplotlib.image.AxesImage at 0x7f1e91a77dd0>"
      ]
     },
     "execution_count": 128,
     "metadata": {},
     "output_type": "execute_result"
    },
    {
     "data": {
      "image/png": "[encoded data removed]",
      "text/plain": [
       "<matplotlib.figure.Figure at 0x7f1e91a87750>"
      ]
     },
     "metadata": {},
     "output_type": "display_data"
    }
   ],
   "source": [
    "plt.imshow(norm_image(d_conv1_img_grad_val.squeeze()), interpolation=\"nearest\", cmap=\"gray\")"
   ]
  },
  {
   "cell_type": "markdown",
   "metadata": {},
   "source": [
    "Multiple sources state the the transpose of the convolution equals to the gradient of it, so I wanted to verify this expecting the same output as in the previous section. As you can see on this image, the results are not at all the same – this is actually uniformly 0, except the top and bottom rows of the image, where the values are caused by the padding, not any real image features.\n",
    "\n",
    "I was puzzled by this, as I was pretty certain this should make sense and this was only supposed to be a quick sanity check. I would never admit how much time I have spent on trying to figure out what went wrong here, reading several other articles on de/convolution, the documentation and source code of Tensorflow, related answers on StackOverflow, etc. (Can you spot the error right away?)\n",
    "\n",
    "The problem here is that due to the choice of the input image/kernel, the sum/average of the values returned by the convolution is exactly 0, so the gradient is 0 as well, so the gradient w.r.t. the input is also uniformly 0. This is caused by the simple fact that I (intentionally) did not include a non-linearity to keep the example minimal, but I also failed to provide a gradient which would return a non-zero value. I did not find anyone having the same problem simply because no one was using convolutions without a non-linearity, and with a perfectly symmetrical output.. After realising this, I could easily correct it by adding the `tf.reduce_max` operation to the graph, which resulted in a non-zero gradient and the expected output."
   ]
  },
  {
   "cell_type": "code",
   "execution_count": 171,
   "metadata": {},
   "outputs": [
    {
     "data": {
      "text/plain": [
       "array([[ 0.        ,  0.        ,  0.        ,  0.        ,  0.        ,\n",
       "         0.        ,  0.        ,  0.        ,  0.        ],\n",
       "       [-0.14285715, -0.42857146, -0.5714286 , -0.5714286 , -0.5714286 ,\n",
       "        -0.5714286 , -0.5714286 , -0.42857146, -0.14285715],\n",
       "       [ 0.        ,  0.        ,  0.        ,  0.        ,  0.        ,\n",
       "         0.        ,  0.        ,  0.        ,  0.        ],\n",
       "       [ 0.14285715,  0.42857146,  0.5714286 ,  0.5714286 ,  0.5714286 ,\n",
       "         0.5714286 ,  0.5714286 ,  0.42857146,  0.14285715],\n",
       "       [ 0.        ,  0.        ,  0.        ,  0.        ,  0.        ,\n",
       "         0.        ,  0.        ,  0.        ,  0.        ],\n",
       "       [ 0.        ,  0.        ,  0.        ,  0.        ,  0.        ,\n",
       "         0.        ,  0.        ,  0.        ,  0.        ],\n",
       "       [ 0.        ,  0.        ,  0.        ,  0.        ,  0.        ,\n",
       "         0.        ,  0.        ,  0.        ,  0.        ],\n",
       "       [ 0.        ,  0.        ,  0.        ,  0.        ,  0.        ,\n",
       "         0.        ,  0.        ,  0.        ,  0.        ],\n",
       "       [ 0.        ,  0.        ,  0.        ,  0.        ,  0.        ,\n",
       "         0.        ,  0.        ,  0.        ,  0.        ]], dtype=float32)"
      ]
     },
     "execution_count": 171,
     "metadata": {},
     "output_type": "execute_result"
    }
   ],
   "source": [
    "with tf.Session() as sess:\n",
    "    sess.run(tf.global_variables_initializer())\n",
    "\n",
    "    d_conv1_img_grad = tf.gradients(tf.reduce_max(conv1), img)[0] # Notice the reduce_max added to the graph\n",
    "    d_conv1_img_grad_val = sess.run(d_conv1_img_grad, feed_dict={img: img_val})\n",
    "d_conv1_img_grad_val.squeeze()"
   ]
  },
  {
   "cell_type": "code",
   "execution_count": 172,
   "metadata": {},
   "outputs": [
    {
     "data": {
      "text/plain": [
       "<matplotlib.image.AxesImage at 0x7f1e91581dd0>"
      ]
     },
     "execution_count": 172,
     "metadata": {},
     "output_type": "execute_result"
    },
    {
     "data": {
      "image/png": "[encoded data removed]",
      "text/plain": [
       "<matplotlib.figure.Figure at 0x7f1e91694190>"
      ]
     },
     "metadata": {},
     "output_type": "display_data"
    }
   ],
   "source": [
    "plt.imshow(norm_image(d_conv1_img_grad_val.squeeze()), interpolation=\"nearest\", cmap=\"gray\")"
   ]
  },
  {
   "cell_type": "markdown",
   "metadata": {},
   "source": [
    "# Max pooling\n",
    "\n",
    "The original article describes a cumbersome method of storing each pixel that was selected in a max pooling operation, and in reverse mode activating only that pixel. Tensorflow has something similar implemented under the name `tf.nn.max_pool_with_argmax`, however this opration sounds just like the gradient of a max pool layer. Let's verify that calculating the gradient is equivalent to this operation. Here I used an image of random pixels instead of the previous one, as max pooling does not make much sense if all the pixels have only two distinct values."
   ]
  },
  {
   "cell_type": "code",
   "execution_count": 133,
   "metadata": {},
   "outputs": [
    {
     "data": {
      "text/plain": [
       "(1, 9, 9, 1)"
      ]
     },
     "execution_count": 133,
     "metadata": {},
     "output_type": "execute_result"
    }
   ],
   "source": [
    "img_rnd_val = np.random.randint(255, size=[1, 9, 9, 1])\n",
    "img_rnd_val.shape"
   ]
  },
  {
   "cell_type": "code",
   "execution_count": 150,
   "metadata": {},
   "outputs": [
    {
     "data": {
      "text/plain": [
       "array([[ 234.,  246.,  204.,  238.,  239.],\n",
       "       [ 220.,  218.,  219.,  246.,   79.],\n",
       "       [ 158.,  233.,  249.,  202.,  189.],\n",
       "       [ 218.,  168.,  182.,  179.,  232.],\n",
       "       [ 165.,  113.,   97.,  175.,  241.]], dtype=float32)"
      ]
     },
     "execution_count": 150,
     "metadata": {},
     "output_type": "execute_result"
    }
   ],
   "source": [
    "with tf.Session() as sess:\n",
    "    sess.run(tf.global_variables_initializer())\n",
    "    mp = tf.nn.max_pool(img, ksize=[1, 2, 2, 1],\n",
    "                        strides=[1, 2, 2, 1], padding='SAME')[0]\n",
    "    d_mp = tf.gradients(mp, img)[0]\n",
    "    mp_val, d_mp_val = sess.run([mp, d_mp], feed_dict={img: img_rnd_val})\n",
    "mp_val.squeeze()"
   ]
  },
  {
   "cell_type": "code",
   "execution_count": 151,
   "metadata": {},
   "outputs": [
    {
     "data": {
      "text/plain": [
       "array([[ 0.,  0.,  0.,  1.,  1.,  0.,  1.,  0.,  1.],\n",
       "       [ 1.,  0.,  0.,  0.,  0.,  0.,  0.,  0.,  0.],\n",
       "       [ 1.,  0.,  0.,  0.,  0.,  0.,  0.,  1.,  1.],\n",
       "       [ 0.,  0.,  1.,  0.,  1.,  0.,  0.,  0.,  0.],\n",
       "       [ 0.,  0.,  0.,  0.,  1.,  0.,  0.,  0.,  0.],\n",
       "       [ 0.,  1.,  0.,  1.,  0.,  0.,  0.,  1.,  1.],\n",
       "       [ 0.,  0.,  0.,  1.,  0.,  0.,  0.,  0.,  0.],\n",
       "       [ 0.,  1.,  0.,  0.,  0.,  1.,  0.,  1.,  1.],\n",
       "       [ 1.,  0.,  0.,  1.,  0.,  1.,  0.,  1.,  1.]], dtype=float32)"
      ]
     },
     "execution_count": 151,
     "metadata": {},
     "output_type": "execute_result"
    }
   ],
   "source": [
    "d_mp_val.squeeze()"
   ]
  },
  {
   "cell_type": "code",
   "execution_count": 152,
   "metadata": {},
   "outputs": [
    {
     "data": {
      "text/plain": [
       "array([[184, 152,  78, 246, 204, 138, 238, 182, 239],\n",
       "       [234, 143, 185, 154,  17, 150, 107, 104,  63],\n",
       "       [220, 112, 112, 108,  96, 150,  66, 246,  79],\n",
       "       [220,  59, 218,  65, 219, 184,  80, 125,  46],\n",
       "       [ 89,  85, 185, 192, 249,  73, 199,  90,  88],\n",
       "       [ 35, 158,  35, 233, 167,   2, 112, 202, 189],\n",
       "       [175, 193, 151, 168, 116,  92, 118,  60,  69],\n",
       "       [ 59, 218,  78,  57, 112, 182,  98, 179, 232],\n",
       "       [165,  17,  92, 113,  22,  97,  52, 175, 241]])"
      ]
     },
     "execution_count": 152,
     "metadata": {},
     "output_type": "execute_result"
    }
   ],
   "source": [
    "img_rnd_val.squeeze()"
   ]
  },
  {
   "cell_type": "code",
   "execution_count": 163,
   "metadata": {},
   "outputs": [
    {
     "name": "stdout",
     "output_type": "stream",
     "text": [
      "The gradient calculation is correct\n"
     ]
    }
   ],
   "source": [
    "is_ok = True\n",
    "for i in range(0, img_rnd_val.shape[1], 2): # Iterate over the input image/output gradient in 2x2 blocks\n",
    "    for j in range(0, img_rnd_val.shape[2], 2):\n",
    "        values = img_rnd_val[0, i:i+2, j:j+2, 0] # Get the 4 values of the image in this 2x2 block\n",
    "        masked_values = (img_rnd_val[0, i:i+2, j:j+2, 0] \n",
    "                         * d_mp_val[0, i:i+2, j:j+2, 0]) # Get of the original image where the gradient has a value of 1\n",
    "        if np.max(values) != np.max(masked_values): # If the gradient points to the correct pixel then selecting \n",
    "                                                    # the max of the previous two 2x2 matrices should yield the same value\n",
    "            is_ok = False\n",
    "            print(\"The resulting gradient did not select the max values for {}:{}\".format(i, j))\n",
    "            break\n",
    "if is_ok:\n",
    "    print(\"The gradient calculation is correct.\")"
   ]
  },
  {
   "cell_type": "markdown",
   "metadata": {},
   "source": [
    "Having checked that calculating the gradient w.r.t. the input gives the result we expect for the visualisation, let's move on to actually solving the task at hand."
   ]
  }
 ],
 "metadata": {
  "kernelspec": {
   "display_name": "Python 2",
   "language": "python",
   "name": "python2"
  },
  "language_info": {
   "codemirror_mode": {
    "name": "ipython",
    "version": 2
   },
   "file_extension": ".py",
   "mimetype": "text/x-python",
   "name": "python",
   "nbconvert_exporter": "python",
   "pygments_lexer": "ipython2",
   "version": "2.7.14"
  }
 },
 "nbformat": 4,
 "nbformat_minor": 2
}
